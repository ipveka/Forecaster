{
 "cells": [
  {
   "cell_type": "markdown",
   "metadata": {
    "editable": true,
    "id": "DTydE4BRNeZ6",
    "slideshow": {
     "slide_type": ""
    },
    "tags": []
   },
   "source": [
    "# Setup"
   ]
  },
  {
   "cell_type": "code",
   "execution_count": 1,
   "metadata": {
    "colab": {
     "base_uri": "https://localhost:8080/",
     "height": 146
    },
    "editable": true,
    "id": "r2cDEFzINeZ9",
    "outputId": "3824334c-e3a4-4b3c-a298-1c1ed20b0d09",
    "slideshow": {
     "slide_type": ""
    },
    "tags": []
   },
   "outputs": [],
   "source": [
    "# General libraries\n",
    "import pandas as pd\n",
    "import numpy as np\n",
    "\n",
    "# Utilities\n",
    "from pathlib import Path\n",
    "import psutil\n",
    "import gc\n",
    "import os\n",
    "\n",
    "# Cuda\n",
    "import torch"
   ]
  },
  {
   "cell_type": "code",
   "execution_count": 2,
   "metadata": {
    "id": "pTMk2xi0NeZ_"
   },
   "outputs": [],
   "source": [
    "# Warnings\n",
    "import warnings\n",
    "\n",
    "# Suppress warnings\n",
    "warnings.filterwarnings(\"ignore\", category=DeprecationWarning)\n",
    "warnings.filterwarnings(\"ignore\", category=UserWarning)\n",
    "\n",
    "# Suppress the specific PerformanceWarning\n",
    "warnings.simplefilter(action='ignore', category=pd.errors.PerformanceWarning)\n",
    "\n",
    "# Pd options\n",
    "pd.options.mode.chained_assignment = None\n",
    "pd.set_option('display.max_columns', None)"
   ]
  },
  {
   "cell_type": "code",
   "execution_count": 3,
   "metadata": {
    "colab": {
     "base_uri": "https://localhost:8080/"
    },
    "id": "lEXb77SkJdhg",
    "outputId": "7e81f021-a05a-49d4-a233-e9e65372bcb6"
   },
   "outputs": [
    {
     "name": "stdout",
     "output_type": "stream",
     "text": [
      "12\n"
     ]
    }
   ],
   "source": [
    "# Get the number of available CPUs\n",
    "num_cpus = os.cpu_count()\n",
    "\n",
    "# Show\n",
    "print(num_cpus)"
   ]
  },
  {
   "cell_type": "code",
   "execution_count": 4,
   "metadata": {
    "colab": {
     "base_uri": "https://localhost:8080/"
    },
    "id": "vxTDDVb6EsdJ",
    "outputId": "6a61c0cd-df80-4bf4-c955-e63edc98b176"
   },
   "outputs": [
    {
     "name": "stdout",
     "output_type": "stream",
     "text": [
      "CUDA is not available. Using CPU.\n"
     ]
    }
   ],
   "source": [
    "# Check if CUDA is available\n",
    "if torch.cuda.is_available():\n",
    "    print(\"CUDA is available. Using GPU.\")\n",
    "else:\n",
    "    print(\"CUDA is not available. Using CPU.\")"
   ]
  },
  {
   "cell_type": "markdown",
   "metadata": {
    "id": "_pl3AUFNSGPd"
   },
   "source": [
    "# Directory"
   ]
  },
  {
   "cell_type": "code",
   "execution_count": 5,
   "metadata": {
    "editable": true,
    "slideshow": {
     "slide_type": ""
    },
    "tags": []
   },
   "outputs": [
    {
     "name": "stdout",
     "output_type": "stream",
     "text": [
      "Moved up from notebooks to: /Users/ignasipascual/GitHub/Forecaster\n"
     ]
    }
   ],
   "source": [
    "# Set the right directory\n",
    "current_path = Path.cwd()\n",
    "if current_path.name in ['notebooks', 'src']:\n",
    "    os.chdir('..')\n",
    "    print(f\"Moved up from {current_path.name} to: {os.getcwd()}\")\n",
    "else:\n",
    "    print(f\"Already in project directory: {os.getcwd()}\")"
   ]
  },
  {
   "cell_type": "markdown",
   "metadata": {
    "id": "-EQdbjjogs6s"
   },
   "source": [
    "# Assets"
   ]
  },
  {
   "cell_type": "code",
   "execution_count": 6,
   "metadata": {
    "editable": true,
    "slideshow": {
     "slide_type": ""
    },
    "tags": []
   },
   "outputs": [],
   "source": [
    "# Import assets\n",
    "from utils.data_preparation import DataPreparation\n",
    "from utils.feature_engineering import FeatureEngineering\n",
    "from utils.create_baselines import CreateBaselines\n",
    "from utils.forecaster import Forecaster\n",
    "from utils.evaluator import Evaluator\n",
    "from utils.auxiliar import *"
   ]
  },
  {
   "cell_type": "markdown",
   "metadata": {
    "id": "ICQh6GCJNeaA"
   },
   "source": [
    "# Load data"
   ]
  },
  {
   "cell_type": "code",
   "execution_count": 7,
   "metadata": {
    "colab": {
     "base_uri": "https://localhost:8080/",
     "height": 226
    },
    "editable": true,
    "id": "S3KPcGoANeaB",
    "outputId": "7db62774-5460-462f-a495-bcb76b0445c9",
    "slideshow": {
     "slide_type": ""
    },
    "tags": []
   },
   "outputs": [
    {
     "data": {
      "text/html": [
       "<div>\n",
       "<style scoped>\n",
       "    .dataframe tbody tr th:only-of-type {\n",
       "        vertical-align: middle;\n",
       "    }\n",
       "\n",
       "    .dataframe tbody tr th {\n",
       "        vertical-align: top;\n",
       "    }\n",
       "\n",
       "    .dataframe thead th {\n",
       "        text-align: right;\n",
       "    }\n",
       "</style>\n",
       "<table border=\"1\" class=\"dataframe\">\n",
       "  <thead>\n",
       "    <tr style=\"text-align: right;\">\n",
       "      <th></th>\n",
       "      <th>id</th>\n",
       "      <th>date</th>\n",
       "      <th>year_week</th>\n",
       "      <th>product_number</th>\n",
       "      <th>reporterhq_id</th>\n",
       "      <th>prod_category</th>\n",
       "      <th>specs</th>\n",
       "      <th>display_size</th>\n",
       "      <th>segment</th>\n",
       "      <th>sales_units</th>\n",
       "      <th>inventory_units</th>\n",
       "    </tr>\n",
       "  </thead>\n",
       "  <tbody>\n",
       "    <tr>\n",
       "      <th>0</th>\n",
       "      <td>202224-2961</td>\n",
       "      <td>2022-06-18</td>\n",
       "      <td>202224</td>\n",
       "      <td>2961</td>\n",
       "      <td>15</td>\n",
       "      <td>Doraemon</td>\n",
       "      <td>186631</td>\n",
       "      <td>15.6</td>\n",
       "      <td>Gaming</td>\n",
       "      <td>52.0</td>\n",
       "      <td>88.0</td>\n",
       "    </tr>\n",
       "    <tr>\n",
       "      <th>1</th>\n",
       "      <td>202225-2961</td>\n",
       "      <td>2022-06-25</td>\n",
       "      <td>202225</td>\n",
       "      <td>2961</td>\n",
       "      <td>15</td>\n",
       "      <td>Doraemon</td>\n",
       "      <td>186631</td>\n",
       "      <td>15.6</td>\n",
       "      <td>Gaming</td>\n",
       "      <td>6.0</td>\n",
       "      <td>88.0</td>\n",
       "    </tr>\n",
       "    <tr>\n",
       "      <th>2</th>\n",
       "      <td>202226-2961</td>\n",
       "      <td>2022-07-02</td>\n",
       "      <td>202226</td>\n",
       "      <td>2961</td>\n",
       "      <td>15</td>\n",
       "      <td>Doraemon</td>\n",
       "      <td>186631</td>\n",
       "      <td>15.6</td>\n",
       "      <td>Gaming</td>\n",
       "      <td>60.0</td>\n",
       "      <td>138.0</td>\n",
       "    </tr>\n",
       "    <tr>\n",
       "      <th>3</th>\n",
       "      <td>202227-2961</td>\n",
       "      <td>2022-07-09</td>\n",
       "      <td>202227</td>\n",
       "      <td>2961</td>\n",
       "      <td>15</td>\n",
       "      <td>Doraemon</td>\n",
       "      <td>186631</td>\n",
       "      <td>15.6</td>\n",
       "      <td>Gaming</td>\n",
       "      <td>158.0</td>\n",
       "      <td>65.0</td>\n",
       "    </tr>\n",
       "    <tr>\n",
       "      <th>4</th>\n",
       "      <td>202228-2961</td>\n",
       "      <td>2022-07-16</td>\n",
       "      <td>202228</td>\n",
       "      <td>2961</td>\n",
       "      <td>15</td>\n",
       "      <td>Doraemon</td>\n",
       "      <td>186631</td>\n",
       "      <td>15.6</td>\n",
       "      <td>Gaming</td>\n",
       "      <td>23.0</td>\n",
       "      <td>30.0</td>\n",
       "    </tr>\n",
       "  </tbody>\n",
       "</table>\n",
       "</div>"
      ],
      "text/plain": [
       "            id        date  year_week  product_number  reporterhq_id  \\\n",
       "0  202224-2961  2022-06-18     202224            2961             15   \n",
       "1  202225-2961  2022-06-25     202225            2961             15   \n",
       "2  202226-2961  2022-07-02     202226            2961             15   \n",
       "3  202227-2961  2022-07-09     202227            2961             15   \n",
       "4  202228-2961  2022-07-16     202228            2961             15   \n",
       "\n",
       "  prod_category   specs  display_size segment  sales_units  inventory_units  \n",
       "0      Doraemon  186631          15.6  Gaming         52.0             88.0  \n",
       "1      Doraemon  186631          15.6  Gaming          6.0             88.0  \n",
       "2      Doraemon  186631          15.6  Gaming         60.0            138.0  \n",
       "3      Doraemon  186631          15.6  Gaming        158.0             65.0  \n",
       "4      Doraemon  186631          15.6  Gaming         23.0             30.0  "
      ]
     },
     "execution_count": 7,
     "metadata": {},
     "output_type": "execute_result"
    }
   ],
   "source": [
    "# Raw URL of the CSV file\n",
    "url = 'https://raw.githubusercontent.com/ipveka/Forecaster/main/data/example.csv'\n",
    "\n",
    "# Load the CSV into a DataFrame\n",
    "df_input = pd.read_csv(url)\n",
    "\n",
    "# Ensure the 'data' folder exists\n",
    "os.makedirs('data', exist_ok=True)\n",
    "\n",
    "# Save DataFrame as CSV locally\n",
    "df_input.to_csv('data/example.csv', index=False)\n",
    "\n",
    "# Show\n",
    "df_input.head()"
   ]
  },
  {
   "cell_type": "markdown",
   "metadata": {},
   "source": [
    "## Subsample\n"
   ]
  },
  {
   "cell_type": "code",
   "execution_count": null,
   "metadata": {},
   "outputs": [
    {
     "name": "stdout",
     "output_type": "stream",
     "text": [
      "🟡 Distinct reporterhq_ids:\n",
      "[15 93 90 12 78 24 60  6  3  9 72 21 87 48 96 84 39 27 81 36]\n",
      "🟢 BEFORE filtering → Rows: 25139, Distinct Reporters: 20\n",
      "🔵 AFTER filtering (reporterhq_id=[15, 93, 90]) → Rows: 9495, Distinct Reporters: 3\n"
     ]
    },
    {
     "data": {
      "text/html": [
       "<div>\n",
       "<style scoped>\n",
       "    .dataframe tbody tr th:only-of-type {\n",
       "        vertical-align: middle;\n",
       "    }\n",
       "\n",
       "    .dataframe tbody tr th {\n",
       "        vertical-align: top;\n",
       "    }\n",
       "\n",
       "    .dataframe thead th {\n",
       "        text-align: right;\n",
       "    }\n",
       "</style>\n",
       "<table border=\"1\" class=\"dataframe\">\n",
       "  <thead>\n",
       "    <tr style=\"text-align: right;\">\n",
       "      <th></th>\n",
       "      <th>id</th>\n",
       "      <th>date</th>\n",
       "      <th>year_week</th>\n",
       "      <th>product_number</th>\n",
       "      <th>reporterhq_id</th>\n",
       "      <th>prod_category</th>\n",
       "      <th>specs</th>\n",
       "      <th>display_size</th>\n",
       "      <th>segment</th>\n",
       "      <th>sales_units</th>\n",
       "      <th>inventory_units</th>\n",
       "    </tr>\n",
       "  </thead>\n",
       "  <tbody>\n",
       "    <tr>\n",
       "      <th>0</th>\n",
       "      <td>202224-2961</td>\n",
       "      <td>2022-06-18</td>\n",
       "      <td>202224</td>\n",
       "      <td>2961</td>\n",
       "      <td>15</td>\n",
       "      <td>Doraemon</td>\n",
       "      <td>186631</td>\n",
       "      <td>15.6</td>\n",
       "      <td>Gaming</td>\n",
       "      <td>52.0</td>\n",
       "      <td>88.0</td>\n",
       "    </tr>\n",
       "    <tr>\n",
       "      <th>1</th>\n",
       "      <td>202225-2961</td>\n",
       "      <td>2022-06-25</td>\n",
       "      <td>202225</td>\n",
       "      <td>2961</td>\n",
       "      <td>15</td>\n",
       "      <td>Doraemon</td>\n",
       "      <td>186631</td>\n",
       "      <td>15.6</td>\n",
       "      <td>Gaming</td>\n",
       "      <td>6.0</td>\n",
       "      <td>88.0</td>\n",
       "    </tr>\n",
       "    <tr>\n",
       "      <th>2</th>\n",
       "      <td>202226-2961</td>\n",
       "      <td>2022-07-02</td>\n",
       "      <td>202226</td>\n",
       "      <td>2961</td>\n",
       "      <td>15</td>\n",
       "      <td>Doraemon</td>\n",
       "      <td>186631</td>\n",
       "      <td>15.6</td>\n",
       "      <td>Gaming</td>\n",
       "      <td>60.0</td>\n",
       "      <td>138.0</td>\n",
       "    </tr>\n",
       "    <tr>\n",
       "      <th>3</th>\n",
       "      <td>202227-2961</td>\n",
       "      <td>2022-07-09</td>\n",
       "      <td>202227</td>\n",
       "      <td>2961</td>\n",
       "      <td>15</td>\n",
       "      <td>Doraemon</td>\n",
       "      <td>186631</td>\n",
       "      <td>15.6</td>\n",
       "      <td>Gaming</td>\n",
       "      <td>158.0</td>\n",
       "      <td>65.0</td>\n",
       "    </tr>\n",
       "    <tr>\n",
       "      <th>4</th>\n",
       "      <td>202228-2961</td>\n",
       "      <td>2022-07-16</td>\n",
       "      <td>202228</td>\n",
       "      <td>2961</td>\n",
       "      <td>15</td>\n",
       "      <td>Doraemon</td>\n",
       "      <td>186631</td>\n",
       "      <td>15.6</td>\n",
       "      <td>Gaming</td>\n",
       "      <td>23.0</td>\n",
       "      <td>30.0</td>\n",
       "    </tr>\n",
       "  </tbody>\n",
       "</table>\n",
       "</div>"
      ],
      "text/plain": [
       "            id        date  year_week  product_number  reporterhq_id  \\\n",
       "0  202224-2961  2022-06-18     202224            2961             15   \n",
       "1  202225-2961  2022-06-25     202225            2961             15   \n",
       "2  202226-2961  2022-07-02     202226            2961             15   \n",
       "3  202227-2961  2022-07-09     202227            2961             15   \n",
       "4  202228-2961  2022-07-16     202228            2961             15   \n",
       "\n",
       "  prod_category   specs  display_size segment  sales_units  inventory_units  \n",
       "0      Doraemon  186631          15.6  Gaming         52.0             88.0  \n",
       "1      Doraemon  186631          15.6  Gaming          6.0             88.0  \n",
       "2      Doraemon  186631          15.6  Gaming         60.0            138.0  \n",
       "3      Doraemon  186631          15.6  Gaming        158.0             65.0  \n",
       "4      Doraemon  186631          15.6  Gaming         23.0             30.0  "
      ]
     },
     "metadata": {},
     "output_type": "display_data"
    }
   ],
   "source": [
    "# Subsample\n",
    "use_subsample = True\n",
    "\n",
    "if use_subsample:\n",
    "    # Show all distinct reporterhq_ids\n",
    "    distinct_reporters = df_input['reporterhq_id'].unique()\n",
    "    print(\"🟡 Distinct reporterhq_ids:\")\n",
    "    print(distinct_reporters)\n",
    "\n",
    "    # Choose reporters to keep\n",
    "    reporters = [15]\n",
    "\n",
    "    # Count before filtering\n",
    "    before_rows = df_input.shape[0]\n",
    "    before_reporters = df_input['reporterhq_id'].nunique()\n",
    "    print(f\"🟢 BEFORE filtering → Rows: {before_rows}, Distinct Reporters: {before_reporters}\")\n",
    "\n",
    "    # Filter ONLY by reporterhq_id\n",
    "    df_input = df_input[df_input['reporterhq_id'].isin(reporters)]\n",
    "\n",
    "    # Count after filtering\n",
    "    after_rows = df_input.shape[0]\n",
    "    after_reporters = df_input['reporterhq_id'].nunique()\n",
    "    print(f\"🔵 AFTER filtering (reporterhq_id={reporters}) → Rows: {after_rows}, Distinct Reporters: {after_reporters}\")\n",
    "\n",
    "    # Show sample\n",
    "    display(df_input.head())"
   ]
  },
  {
   "cell_type": "markdown",
   "metadata": {},
   "source": [
    "## Formatting"
   ]
  },
  {
   "cell_type": "code",
   "execution_count": 9,
   "metadata": {},
   "outputs": [
    {
     "data": {
      "text/html": [
       "<div>\n",
       "<style scoped>\n",
       "    .dataframe tbody tr th:only-of-type {\n",
       "        vertical-align: middle;\n",
       "    }\n",
       "\n",
       "    .dataframe tbody tr th {\n",
       "        vertical-align: top;\n",
       "    }\n",
       "\n",
       "    .dataframe thead th {\n",
       "        text-align: right;\n",
       "    }\n",
       "</style>\n",
       "<table border=\"1\" class=\"dataframe\">\n",
       "  <thead>\n",
       "    <tr style=\"text-align: right;\">\n",
       "      <th></th>\n",
       "      <th>reporterhq_id</th>\n",
       "      <th>product_number</th>\n",
       "      <th>prod_category</th>\n",
       "      <th>specs</th>\n",
       "      <th>display_size</th>\n",
       "      <th>segment</th>\n",
       "      <th>date</th>\n",
       "      <th>sales_units</th>\n",
       "      <th>inventory_units</th>\n",
       "    </tr>\n",
       "  </thead>\n",
       "  <tbody>\n",
       "    <tr>\n",
       "      <th>0</th>\n",
       "      <td>15</td>\n",
       "      <td>100674</td>\n",
       "      <td>Conan</td>\n",
       "      <td>158588</td>\n",
       "      <td>15.6</td>\n",
       "      <td>Premium</td>\n",
       "      <td>2022-06-18</td>\n",
       "      <td>0.0</td>\n",
       "      <td>28.0</td>\n",
       "    </tr>\n",
       "    <tr>\n",
       "      <th>1</th>\n",
       "      <td>15</td>\n",
       "      <td>100674</td>\n",
       "      <td>Conan</td>\n",
       "      <td>158588</td>\n",
       "      <td>15.6</td>\n",
       "      <td>Premium</td>\n",
       "      <td>2022-06-25</td>\n",
       "      <td>0.0</td>\n",
       "      <td>45.0</td>\n",
       "    </tr>\n",
       "    <tr>\n",
       "      <th>2</th>\n",
       "      <td>15</td>\n",
       "      <td>100674</td>\n",
       "      <td>Conan</td>\n",
       "      <td>158588</td>\n",
       "      <td>15.6</td>\n",
       "      <td>Premium</td>\n",
       "      <td>2022-07-02</td>\n",
       "      <td>14.0</td>\n",
       "      <td>68.0</td>\n",
       "    </tr>\n",
       "    <tr>\n",
       "      <th>3</th>\n",
       "      <td>15</td>\n",
       "      <td>100674</td>\n",
       "      <td>Conan</td>\n",
       "      <td>158588</td>\n",
       "      <td>15.6</td>\n",
       "      <td>Premium</td>\n",
       "      <td>2022-07-09</td>\n",
       "      <td>8.0</td>\n",
       "      <td>55.0</td>\n",
       "    </tr>\n",
       "    <tr>\n",
       "      <th>4</th>\n",
       "      <td>15</td>\n",
       "      <td>100674</td>\n",
       "      <td>Conan</td>\n",
       "      <td>158588</td>\n",
       "      <td>15.6</td>\n",
       "      <td>Premium</td>\n",
       "      <td>2022-07-16</td>\n",
       "      <td>6.0</td>\n",
       "      <td>75.0</td>\n",
       "    </tr>\n",
       "  </tbody>\n",
       "</table>\n",
       "</div>"
      ],
      "text/plain": [
       "  reporterhq_id product_number prod_category   specs display_size  segment  \\\n",
       "0            15         100674         Conan  158588         15.6  Premium   \n",
       "1            15         100674         Conan  158588         15.6  Premium   \n",
       "2            15         100674         Conan  158588         15.6  Premium   \n",
       "3            15         100674         Conan  158588         15.6  Premium   \n",
       "4            15         100674         Conan  158588         15.6  Premium   \n",
       "\n",
       "        date  sales_units  inventory_units  \n",
       "0 2022-06-18          0.0             28.0  \n",
       "1 2022-06-25          0.0             45.0  \n",
       "2 2022-07-02         14.0             68.0  \n",
       "3 2022-07-09          8.0             55.0  \n",
       "4 2022-07-16          6.0             75.0  "
      ]
     },
     "execution_count": 9,
     "metadata": {},
     "output_type": "execute_result"
    }
   ],
   "source": [
    "# Convert all column names to lowercase\n",
    "df_input.columns = df_input.columns.str.lower()\n",
    "\n",
    "# Date format\n",
    "df_input['date'] = pd.to_datetime(df_input['date'])\n",
    "\n",
    "# Convert each specified column to string\n",
    "character_cols = ['reporterhq_id', 'product_number', 'prod_category', 'specs', 'display_size', 'segment']\n",
    "for col in character_cols:\n",
    "    df_input[col] = df_input[col].astype(str)\n",
    "\n",
    "# Convert signal columns to numeric, coercing errors to NaN\n",
    "signal_cols = ['sales_units', 'inventory_units']\n",
    "for col in signal_cols:\n",
    "    df_input[col] = pd.to_numeric(df_input[col], errors='coerce')\n",
    "\n",
    "# Select the specified columns\n",
    "df_input = df_input[['reporterhq_id', 'product_number', 'prod_category', 'specs', 'display_size', 'segment', 'date', 'sales_units', 'inventory_units']]\n",
    "\n",
    "# Sort by 'id_column' and 'date' in ascending order\n",
    "df_input = df_input.sort_values(by=['reporterhq_id', 'product_number', 'date'])\n",
    "\n",
    "# Reset index\n",
    "df_input = df_input.reset_index(drop=True)\n",
    "\n",
    "# Show\n",
    "df_input.head()"
   ]
  },
  {
   "cell_type": "markdown",
   "metadata": {},
   "source": [
    "## Statistics"
   ]
  },
  {
   "cell_type": "code",
   "execution_count": 10,
   "metadata": {
    "colab": {
     "base_uri": "https://localhost:8080/"
    },
    "id": "7TVdpDIXNgOY",
    "outputId": "443cd22a-d6fa-489a-afc3-7ea624f384d9"
   },
   "outputs": [
    {
     "name": "stdout",
     "output_type": "stream",
     "text": [
      "Number of columns in df_input: 9\n",
      "Number of rows in df_input: 9495\n",
      "Number of distinct reporterhq_id: 3\n",
      "Number of distinct product_number: 153\n"
     ]
    }
   ],
   "source": [
    "# Print the number of rows and columns\n",
    "print(f\"Number of columns in df_input: {df_input.shape[1]}\")\n",
    "print(f\"Number of rows in df_input: {df_input.shape[0]}\")\n",
    "\n",
    "# Print the number of distinct values for each specified column\n",
    "print(f\"Number of distinct reporterhq_id: {df_input['reporterhq_id'].nunique()}\")\n",
    "print(f\"Number of distinct product_number: {df_input['product_number'].nunique()}\")"
   ]
  },
  {
   "cell_type": "code",
   "execution_count": 11,
   "metadata": {},
   "outputs": [
    {
     "name": "stdout",
     "output_type": "stream",
     "text": [
      "Percentage of NA values: 0.44%\n"
     ]
    }
   ],
   "source": [
    "# Calculate the percentage of NA values in the entire DataFrame\n",
    "total_rows = len(df_input)\n",
    "total_na = df_input.isna().sum().sum()\n",
    "percent_na_total = (total_na / (total_rows * df_input.shape[1])) * 100\n",
    "print(f\"Percentage of NA values: {percent_na_total:.2f}%\")"
   ]
  },
  {
   "cell_type": "markdown",
   "metadata": {},
   "source": [
    "# Data Preparation"
   ]
  },
  {
   "cell_type": "code",
   "execution_count": 12,
   "metadata": {
    "editable": true,
    "slideshow": {
     "slide_type": ""
    },
    "tags": []
   },
   "outputs": [],
   "source": [
    "# Init class\n",
    "data_preparation = DataPreparation()"
   ]
  },
  {
   "cell_type": "code",
   "execution_count": 13,
   "metadata": {
    "editable": true,
    "slideshow": {
     "slide_type": ""
    },
    "tags": []
   },
   "outputs": [
    {
     "name": "stdout",
     "output_type": "stream",
     "text": [
      "\n",
      "======================================================================\n",
      "DATA PREPARATION\n",
      "======================================================================\n",
      "\n",
      "📊 Input Dataset:\n",
      "   • Rows: 9,495\n",
      "   • Columns: 9\n",
      "   • Groups: 213\n",
      "   • Date column: 'date'\n",
      "   • Target: 'inventory_units'\n",
      "\n",
      "🔄 Converting 'date' to datetime format...\n",
      "   ✓ Date range: 2021-05-15 to 2023-05-06\n",
      "   ✓ Target > 0 & not NaN: 9,184 records (2021-05-15 to 2023-05-06)\n",
      "\n",
      "🔍 Auto-detecting frequency...\n",
      "   ✓ Detected frequency: W-SAT\n",
      "   ✓ Using specified horizon: 13 periods\n",
      "   ✓ Using specified smoothing window: 13 periods\n",
      "\n",
      "⏭️  Skipping date completion (complete_dataframe=False)\n",
      "\n",
      "📈 Identified 2 signal column(s):\n",
      "   • sales_units (98.0% non-null)\n",
      "   • inventory_units (98.1% non-null)\n",
      "\n",
      "⏭️  Skipping smoothing (smoothing=False)\n",
      "\n",
      "📅 Creating 5 cutoff(s) for backtesting...\n",
      "   ✓ Cutoff dates (based on dates with valid target):\n",
      "      1. 2023-05-06 [LATEST - Used for future forecasting]\n",
      "      2. 2023-04-01\n",
      "      3. 2023-03-04\n",
      "      4. 2023-02-04\n",
      "      5. 2023-01-07\n",
      "\n",
      "🔀 Creating train/test splits...\n",
      "   ✓ Expanded dataset from 9,495 to 47,475 rows\n",
      "   ✓ Train samples: 37,853 (79.7%)\n",
      "   ✓ Test samples: 9,622 (20.3%)\n",
      "\n",
      "🎯 Adding forecast horizon for latest cutoff...\n",
      "   ✓ Added 2,769 rows for 13-period forecast horizon\n",
      "\n",
      "🔧 Final formatting...\n",
      "   ✓ Converted cutoff column to datetime\n",
      "\n",
      "======================================================================\n",
      "✅ DATA PREPARATION COMPLETED\n",
      "======================================================================\n",
      "   • Final shape: 50,244 rows × 11 columns\n",
      "   • Cutoffs: 5\n",
      "   • Horizon: 13 periods\n",
      "   • Frequency: W-SAT\n",
      "======================================================================\n",
      "\n"
     ]
    },
    {
     "data": {
      "text/html": [
       "<div>\n",
       "<style scoped>\n",
       "    .dataframe tbody tr th:only-of-type {\n",
       "        vertical-align: middle;\n",
       "    }\n",
       "\n",
       "    .dataframe tbody tr th {\n",
       "        vertical-align: top;\n",
       "    }\n",
       "\n",
       "    .dataframe thead th {\n",
       "        text-align: right;\n",
       "    }\n",
       "</style>\n",
       "<table border=\"1\" class=\"dataframe\">\n",
       "  <thead>\n",
       "    <tr style=\"text-align: right;\">\n",
       "      <th></th>\n",
       "      <th>reporterhq_id</th>\n",
       "      <th>product_number</th>\n",
       "      <th>prod_category</th>\n",
       "      <th>specs</th>\n",
       "      <th>display_size</th>\n",
       "      <th>segment</th>\n",
       "      <th>date</th>\n",
       "      <th>sales_units</th>\n",
       "      <th>inventory_units</th>\n",
       "      <th>cutoff</th>\n",
       "      <th>sample</th>\n",
       "    </tr>\n",
       "  </thead>\n",
       "  <tbody>\n",
       "    <tr>\n",
       "      <th>3</th>\n",
       "      <td>15</td>\n",
       "      <td>100674</td>\n",
       "      <td>Conan</td>\n",
       "      <td>158588</td>\n",
       "      <td>15.6</td>\n",
       "      <td>Premium</td>\n",
       "      <td>2022-06-18</td>\n",
       "      <td>0.0</td>\n",
       "      <td>28.0</td>\n",
       "      <td>2023-01-07</td>\n",
       "      <td>train</td>\n",
       "    </tr>\n",
       "    <tr>\n",
       "      <th>7</th>\n",
       "      <td>15</td>\n",
       "      <td>100674</td>\n",
       "      <td>Conan</td>\n",
       "      <td>158588</td>\n",
       "      <td>15.6</td>\n",
       "      <td>Premium</td>\n",
       "      <td>2022-06-25</td>\n",
       "      <td>0.0</td>\n",
       "      <td>45.0</td>\n",
       "      <td>2023-01-07</td>\n",
       "      <td>train</td>\n",
       "    </tr>\n",
       "    <tr>\n",
       "      <th>11</th>\n",
       "      <td>15</td>\n",
       "      <td>100674</td>\n",
       "      <td>Conan</td>\n",
       "      <td>158588</td>\n",
       "      <td>15.6</td>\n",
       "      <td>Premium</td>\n",
       "      <td>2022-07-02</td>\n",
       "      <td>14.0</td>\n",
       "      <td>68.0</td>\n",
       "      <td>2023-01-07</td>\n",
       "      <td>train</td>\n",
       "    </tr>\n",
       "    <tr>\n",
       "      <th>15</th>\n",
       "      <td>15</td>\n",
       "      <td>100674</td>\n",
       "      <td>Conan</td>\n",
       "      <td>158588</td>\n",
       "      <td>15.6</td>\n",
       "      <td>Premium</td>\n",
       "      <td>2022-07-09</td>\n",
       "      <td>8.0</td>\n",
       "      <td>55.0</td>\n",
       "      <td>2023-01-07</td>\n",
       "      <td>train</td>\n",
       "    </tr>\n",
       "    <tr>\n",
       "      <th>19</th>\n",
       "      <td>15</td>\n",
       "      <td>100674</td>\n",
       "      <td>Conan</td>\n",
       "      <td>158588</td>\n",
       "      <td>15.6</td>\n",
       "      <td>Premium</td>\n",
       "      <td>2022-07-16</td>\n",
       "      <td>6.0</td>\n",
       "      <td>75.0</td>\n",
       "      <td>2023-01-07</td>\n",
       "      <td>train</td>\n",
       "    </tr>\n",
       "  </tbody>\n",
       "</table>\n",
       "</div>"
      ],
      "text/plain": [
       "   reporterhq_id product_number prod_category   specs display_size  segment  \\\n",
       "3             15         100674         Conan  158588         15.6  Premium   \n",
       "7             15         100674         Conan  158588         15.6  Premium   \n",
       "11            15         100674         Conan  158588         15.6  Premium   \n",
       "15            15         100674         Conan  158588         15.6  Premium   \n",
       "19            15         100674         Conan  158588         15.6  Premium   \n",
       "\n",
       "         date  sales_units  inventory_units     cutoff sample  \n",
       "3  2022-06-18          0.0             28.0 2023-01-07  train  \n",
       "7  2022-06-25          0.0             45.0 2023-01-07  train  \n",
       "11 2022-07-02         14.0             68.0 2023-01-07  train  \n",
       "15 2022-07-09          8.0             55.0 2023-01-07  train  \n",
       "19 2022-07-16          6.0             75.0 2023-01-07  train  "
      ]
     },
     "execution_count": 13,
     "metadata": {},
     "output_type": "execute_result"
    }
   ],
   "source": [
    "# Run data preparation\n",
    "df_data_prepared = data_preparation.run_data_preparation(\n",
    "    df=df_input,\n",
    "    group_cols=['reporterhq_id', 'product_number'],\n",
    "    date_col='date',\n",
    "    target='inventory_units',\n",
    "    horizon=13,\n",
    "    complete_dataframe=False,\n",
    "    smoothing=False,\n",
    "    dp_window_size=13,\n",
    "    n_cutoffs=5\n",
    ")\n",
    "\n",
    "# Show\n",
    "df_data_prepared.head()"
   ]
  },
  {
   "cell_type": "markdown",
   "metadata": {},
   "source": [
    "# Feature Engineering"
   ]
  },
  {
   "cell_type": "code",
   "execution_count": 14,
   "metadata": {},
   "outputs": [],
   "source": [
    "# Init class\n",
    "feature_engineering = FeatureEngineering()"
   ]
  },
  {
   "cell_type": "code",
   "execution_count": 15,
   "metadata": {
    "editable": true,
    "slideshow": {
     "slide_type": ""
    },
    "tags": []
   },
   "outputs": [
    {
     "name": "stdout",
     "output_type": "stream",
     "text": [
      "\n",
      "======================================================================\n",
      "FEATURE ENGINEERING\n",
      "======================================================================\n",
      "\n",
      "📊 Input Dataset:\n",
      "   • Rows: 50,244\n",
      "   • Columns: 11\n",
      "   • Existing features: 0\n",
      "   • Target: 'inventory_units'\n",
      "\n",
      "📅 Using specified frequency: W\n",
      "   ✓ Using specified window sizes: (4, 13)\n",
      "   ✓ Using specified lags: (4, 13, 26, 52)\n",
      "\n",
      "📈 Identified 2 signal column(s) for feature creation\n",
      "   • Signal columns: sales_units, inventory_units\n",
      "\n",
      "🏷️  Encoding 6 categorical column(s)...\n",
      "   • Columns to encode: reporterhq_id, product_number, prod_category, specs, display_size, segment\n",
      "     - reporterhq_id: 3 unique values\n",
      "     - product_number: 153 unique values\n",
      "     - prod_category: 7 unique values\n",
      "     - specs: 153 unique values\n",
      "     - display_size: 7 unique values\n",
      "     - segment: 3 unique values\n",
      "   ✓ Created 6 encoded feature(s)\n",
      "\n",
      "📅 Creating temporal features...\n",
      "   ✓ Created 26 date-based features\n",
      "      - Basic: year, quarter, month, week, day, dayofweek\n",
      "      - Cyclical: sin/cos encodings for seasonality\n",
      "\n",
      "⏱️  Creating period-based features...\n",
      "   ✓ Created 3 period feature(s)\n",
      "      - Periods since first non-zero signal\n",
      "\n",
      "📊 Processing 2 signal(s) for MA/lag features\n",
      "   • Signals for MA/lags: sales_units, inventory_units\n",
      "   ℹ️  Excluded cyclical/temporal features from calculations\n",
      "\n",
      "📉 Creating moving average features...\n",
      "   ✓ Created 4 moving average feature(s)\n",
      "      - Window sizes: (4, 13)\n",
      "      - Signals: 2\n",
      "\n",
      "📊 Creating moving statistics features...\n",
      "   ✓ Created 12 moving statistic feature(s)\n",
      "      - Statistics: min, max, mean\n",
      "      - Window sizes: (4, 13)\n",
      "\n",
      "⏮️  Creating lag features...\n",
      "   ✓ Created 8 lag feature(s)\n",
      "      - Signals: sales_units, inventory_units\n",
      "      - Lag periods: (4, 13, 26, 52)\n",
      "      - Fill forward: True\n",
      "\n",
      "📐 Creating statistical features for target...\n",
      "   ✓ Created coefficient of variation feature (with seasonality/trend removal)\n",
      "   ✓ Created intermittence feature\n",
      "\n",
      "🎯 Creating quantile cluster features...\n",
      "   ✓ Created 1 quantile cluster feature(s)\n",
      "      - Number of clusters: 10\n",
      "\n",
      "⏭️  Skipping extended statistics (extended_stats=False)\n",
      "\n",
      "⚖️  Creating training weights...\n",
      "   ✓ Created 'train_weight' column (type: linear)\n",
      "      - Gives more importance to recent observations\n",
      "\n",
      "🔢 Creating horizon numbers...\n",
      "   ✓ Created 'horizon' column\n",
      "      - Tracks forecast horizon position\n",
      "\n",
      "======================================================================\n",
      "✅ FEATURE ENGINEERING COMPLETED\n",
      "======================================================================\n",
      "   • Final shape: 50,244 rows × 75 columns\n",
      "   • Total features: 46 (+46 new)\n",
      "   • Frequency: W\n",
      "   • Window sizes: (4, 13)\n",
      "   • Lags: (4, 13, 26, 52)\n",
      "======================================================================\n",
      "\n"
     ]
    }
   ],
   "source": [
    "# Run feature engineering\n",
    "df_with_features = feature_engineering.run_feature_engineering(\n",
    "    df=df_data_prepared,\n",
    "    group_cols=['reporterhq_id', 'product_number', 'cutoff'],\n",
    "    date_col='date',\n",
    "    target='inventory_units',\n",
    "    freq='W',\n",
    "    fe_window_size=(4, 13),\n",
    "    lags=(4, 13, 26, 52),\n",
    "    fill_lags=True,\n",
    "    n_clusters=10\n",
    ")"
   ]
  },
  {
   "cell_type": "markdown",
   "metadata": {},
   "source": [
    "# Create Baselines"
   ]
  },
  {
   "cell_type": "code",
   "execution_count": 16,
   "metadata": {
    "editable": true,
    "slideshow": {
     "slide_type": ""
    },
    "tags": []
   },
   "outputs": [],
   "source": [
    "# Parameters for baseline creation\n",
    "group_columns_cb = ['reporterhq_id', 'product_number', 'cutoff']\n",
    "date_column = 'date'\n",
    "\n",
    "# MA Baseline parameters\n",
    "signal_columns = ['sales_units', 'inventory_units']\n",
    "bs_window_size = 13\n",
    "\n",
    "# Feature baselines\n",
    "create_features = False"
   ]
  },
  {
   "cell_type": "code",
   "execution_count": 17,
   "metadata": {},
   "outputs": [],
   "source": [
    "# Prepare class\n",
    "create_baselines = CreateBaselines()"
   ]
  },
  {
   "cell_type": "code",
   "execution_count": 18,
   "metadata": {
    "editable": true,
    "slideshow": {
     "slide_type": ""
    },
    "tags": []
   },
   "outputs": [
    {
     "data": {
      "text/html": [
       "<div>\n",
       "<style scoped>\n",
       "    .dataframe tbody tr th:only-of-type {\n",
       "        vertical-align: middle;\n",
       "    }\n",
       "\n",
       "    .dataframe tbody tr th {\n",
       "        vertical-align: top;\n",
       "    }\n",
       "\n",
       "    .dataframe thead th {\n",
       "        text-align: right;\n",
       "    }\n",
       "</style>\n",
       "<table border=\"1\" class=\"dataframe\">\n",
       "  <thead>\n",
       "    <tr style=\"text-align: right;\">\n",
       "      <th></th>\n",
       "      <th>reporterhq_id</th>\n",
       "      <th>product_number</th>\n",
       "      <th>prod_category</th>\n",
       "      <th>specs</th>\n",
       "      <th>display_size</th>\n",
       "      <th>segment</th>\n",
       "      <th>date</th>\n",
       "      <th>sales_units</th>\n",
       "      <th>inventory_units</th>\n",
       "      <th>cutoff</th>\n",
       "      <th>sample</th>\n",
       "      <th>feature_reporterhq_id</th>\n",
       "      <th>feature_product_number</th>\n",
       "      <th>feature_prod_category</th>\n",
       "      <th>feature_specs</th>\n",
       "      <th>feature_display_size</th>\n",
       "      <th>feature_segment</th>\n",
       "      <th>feature_year</th>\n",
       "      <th>feature_quarter</th>\n",
       "      <th>feature_month</th>\n",
       "      <th>feature_week</th>\n",
       "      <th>feature_day</th>\n",
       "      <th>feature_dayofweek</th>\n",
       "      <th>feature_sin_yearly_1</th>\n",
       "      <th>feature_cos_yearly_1</th>\n",
       "      <th>feature_sin_yearly_2</th>\n",
       "      <th>feature_cos_yearly_2</th>\n",
       "      <th>feature_sin_yearly_3</th>\n",
       "      <th>feature_cos_yearly_3</th>\n",
       "      <th>feature_sin_quarterly_1</th>\n",
       "      <th>feature_cos_quarterly_1</th>\n",
       "      <th>feature_sin_quarterly_2</th>\n",
       "      <th>feature_cos_quarterly_2</th>\n",
       "      <th>feature_sin_monthly_1</th>\n",
       "      <th>feature_cos_monthly_1</th>\n",
       "      <th>feature_sin_monthly_2</th>\n",
       "      <th>feature_cos_monthly_2</th>\n",
       "      <th>feature_sin_weekly_1</th>\n",
       "      <th>feature_cos_weekly_1</th>\n",
       "      <th>feature_sin_weekly_2</th>\n",
       "      <th>feature_cos_weekly_2</th>\n",
       "      <th>feature_sin_weekly_3</th>\n",
       "      <th>feature_cos_weekly_3</th>\n",
       "      <th>feature_periods</th>\n",
       "      <th>feature_periods_expanding</th>\n",
       "      <th>feature_periods_sqrt</th>\n",
       "      <th>sales_units_ma_4</th>\n",
       "      <th>sales_units_ma_13</th>\n",
       "      <th>inventory_units_ma_4</th>\n",
       "      <th>inventory_units_ma_13</th>\n",
       "      <th>sales_units_min_4</th>\n",
       "      <th>sales_units_max_4</th>\n",
       "      <th>sales_units_mean_4</th>\n",
       "      <th>sales_units_min_13</th>\n",
       "      <th>sales_units_max_13</th>\n",
       "      <th>sales_units_mean_13</th>\n",
       "      <th>inventory_units_min_4</th>\n",
       "      <th>inventory_units_max_4</th>\n",
       "      <th>inventory_units_mean_4</th>\n",
       "      <th>inventory_units_min_13</th>\n",
       "      <th>inventory_units_max_13</th>\n",
       "      <th>inventory_units_mean_13</th>\n",
       "      <th>feature_sales_units_lag_4</th>\n",
       "      <th>feature_sales_units_lag_13</th>\n",
       "      <th>feature_sales_units_lag_26</th>\n",
       "      <th>feature_sales_units_lag_52</th>\n",
       "      <th>feature_inventory_units_lag_4</th>\n",
       "      <th>feature_inventory_units_lag_13</th>\n",
       "      <th>feature_inventory_units_lag_26</th>\n",
       "      <th>feature_inventory_units_lag_52</th>\n",
       "      <th>feature_inventory_units_cov</th>\n",
       "      <th>feature_inventory_units_intermittence</th>\n",
       "      <th>feature_inventory_units_cluster</th>\n",
       "      <th>train_weight</th>\n",
       "      <th>horizon</th>\n",
       "      <th>baseline_sales_units_ma_13</th>\n",
       "      <th>baseline_inventory_units_ma_13</th>\n",
       "    </tr>\n",
       "  </thead>\n",
       "  <tbody>\n",
       "    <tr>\n",
       "      <th>0</th>\n",
       "      <td>15</td>\n",
       "      <td>100674</td>\n",
       "      <td>Conan</td>\n",
       "      <td>158588</td>\n",
       "      <td>15.6</td>\n",
       "      <td>Premium</td>\n",
       "      <td>2022-06-18</td>\n",
       "      <td>0.0</td>\n",
       "      <td>28.0</td>\n",
       "      <td>2023-01-07</td>\n",
       "      <td>train</td>\n",
       "      <td>0</td>\n",
       "      <td>0</td>\n",
       "      <td>3</td>\n",
       "      <td>40</td>\n",
       "      <td>4</td>\n",
       "      <td>2</td>\n",
       "      <td>2022</td>\n",
       "      <td>2</td>\n",
       "      <td>6</td>\n",
       "      <td>24</td>\n",
       "      <td>18</td>\n",
       "      <td>5</td>\n",
       "      <td>0.232243</td>\n",
       "      <td>-0.972658</td>\n",
       "      <td>-0.451786</td>\n",
       "      <td>0.892126</td>\n",
       "      <td>0.646623</td>\n",
       "      <td>-0.762810</td>\n",
       "      <td>-0.806100</td>\n",
       "      <td>0.591779</td>\n",
       "      <td>-0.954067</td>\n",
       "      <td>-0.299595</td>\n",
       "      <td>-0.587785</td>\n",
       "      <td>-0.809017</td>\n",
       "      <td>0.951057</td>\n",
       "      <td>0.309017</td>\n",
       "      <td>-0.974928</td>\n",
       "      <td>-0.222521</td>\n",
       "      <td>0.433884</td>\n",
       "      <td>-0.900969</td>\n",
       "      <td>0.781831</td>\n",
       "      <td>0.62349</td>\n",
       "      <td>1.0</td>\n",
       "      <td>1.000000</td>\n",
       "      <td>1.000000</td>\n",
       "      <td>0.000000</td>\n",
       "      <td>0.000000</td>\n",
       "      <td>28.00</td>\n",
       "      <td>28.0</td>\n",
       "      <td>0.0</td>\n",
       "      <td>0.0</td>\n",
       "      <td>0.000000</td>\n",
       "      <td>0.0</td>\n",
       "      <td>0.0</td>\n",
       "      <td>0.000000</td>\n",
       "      <td>28.0</td>\n",
       "      <td>28.0</td>\n",
       "      <td>28.00</td>\n",
       "      <td>28.0</td>\n",
       "      <td>28.0</td>\n",
       "      <td>28.0</td>\n",
       "      <td>NaN</td>\n",
       "      <td>NaN</td>\n",
       "      <td>NaN</td>\n",
       "      <td>NaN</td>\n",
       "      <td>NaN</td>\n",
       "      <td>NaN</td>\n",
       "      <td>NaN</td>\n",
       "      <td>NaN</td>\n",
       "      <td>-9.272274</td>\n",
       "      <td>0.0</td>\n",
       "      <td>1</td>\n",
       "      <td>0.034483</td>\n",
       "      <td>0</td>\n",
       "      <td>0.000000</td>\n",
       "      <td>28.0</td>\n",
       "    </tr>\n",
       "    <tr>\n",
       "      <th>1</th>\n",
       "      <td>15</td>\n",
       "      <td>100674</td>\n",
       "      <td>Conan</td>\n",
       "      <td>158588</td>\n",
       "      <td>15.6</td>\n",
       "      <td>Premium</td>\n",
       "      <td>2022-06-25</td>\n",
       "      <td>0.0</td>\n",
       "      <td>45.0</td>\n",
       "      <td>2023-01-07</td>\n",
       "      <td>train</td>\n",
       "      <td>0</td>\n",
       "      <td>0</td>\n",
       "      <td>3</td>\n",
       "      <td>40</td>\n",
       "      <td>4</td>\n",
       "      <td>2</td>\n",
       "      <td>2022</td>\n",
       "      <td>2</td>\n",
       "      <td>6</td>\n",
       "      <td>25</td>\n",
       "      <td>25</td>\n",
       "      <td>5</td>\n",
       "      <td>0.113720</td>\n",
       "      <td>-0.993513</td>\n",
       "      <td>-0.225964</td>\n",
       "      <td>0.974136</td>\n",
       "      <td>0.335276</td>\n",
       "      <td>-0.942120</td>\n",
       "      <td>-0.440238</td>\n",
       "      <td>0.897881</td>\n",
       "      <td>-0.790563</td>\n",
       "      <td>0.612380</td>\n",
       "      <td>-0.866025</td>\n",
       "      <td>0.500000</td>\n",
       "      <td>-0.866025</td>\n",
       "      <td>-0.500000</td>\n",
       "      <td>-0.974928</td>\n",
       "      <td>-0.222521</td>\n",
       "      <td>0.433884</td>\n",
       "      <td>-0.900969</td>\n",
       "      <td>0.781831</td>\n",
       "      <td>0.62349</td>\n",
       "      <td>2.0</td>\n",
       "      <td>2.143547</td>\n",
       "      <td>1.414214</td>\n",
       "      <td>0.000000</td>\n",
       "      <td>0.000000</td>\n",
       "      <td>36.50</td>\n",
       "      <td>36.5</td>\n",
       "      <td>0.0</td>\n",
       "      <td>0.0</td>\n",
       "      <td>0.000000</td>\n",
       "      <td>0.0</td>\n",
       "      <td>0.0</td>\n",
       "      <td>0.000000</td>\n",
       "      <td>28.0</td>\n",
       "      <td>45.0</td>\n",
       "      <td>36.50</td>\n",
       "      <td>28.0</td>\n",
       "      <td>45.0</td>\n",
       "      <td>36.5</td>\n",
       "      <td>NaN</td>\n",
       "      <td>NaN</td>\n",
       "      <td>NaN</td>\n",
       "      <td>NaN</td>\n",
       "      <td>NaN</td>\n",
       "      <td>NaN</td>\n",
       "      <td>NaN</td>\n",
       "      <td>NaN</td>\n",
       "      <td>-9.272274</td>\n",
       "      <td>0.0</td>\n",
       "      <td>1</td>\n",
       "      <td>0.068966</td>\n",
       "      <td>0</td>\n",
       "      <td>0.000000</td>\n",
       "      <td>36.5</td>\n",
       "    </tr>\n",
       "    <tr>\n",
       "      <th>2</th>\n",
       "      <td>15</td>\n",
       "      <td>100674</td>\n",
       "      <td>Conan</td>\n",
       "      <td>158588</td>\n",
       "      <td>15.6</td>\n",
       "      <td>Premium</td>\n",
       "      <td>2022-07-02</td>\n",
       "      <td>14.0</td>\n",
       "      <td>68.0</td>\n",
       "      <td>2023-01-07</td>\n",
       "      <td>train</td>\n",
       "      <td>0</td>\n",
       "      <td>0</td>\n",
       "      <td>3</td>\n",
       "      <td>40</td>\n",
       "      <td>4</td>\n",
       "      <td>2</td>\n",
       "      <td>2022</td>\n",
       "      <td>3</td>\n",
       "      <td>7</td>\n",
       "      <td>26</td>\n",
       "      <td>2</td>\n",
       "      <td>5</td>\n",
       "      <td>-0.006451</td>\n",
       "      <td>-0.999979</td>\n",
       "      <td>0.012901</td>\n",
       "      <td>0.999917</td>\n",
       "      <td>-0.019352</td>\n",
       "      <td>-0.999813</td>\n",
       "      <td>0.025801</td>\n",
       "      <td>0.999667</td>\n",
       "      <td>0.051584</td>\n",
       "      <td>0.998669</td>\n",
       "      <td>0.394356</td>\n",
       "      <td>0.918958</td>\n",
       "      <td>0.724793</td>\n",
       "      <td>0.688967</td>\n",
       "      <td>-0.974928</td>\n",
       "      <td>-0.222521</td>\n",
       "      <td>0.433884</td>\n",
       "      <td>-0.900969</td>\n",
       "      <td>0.781831</td>\n",
       "      <td>0.62349</td>\n",
       "      <td>3.0</td>\n",
       "      <td>3.348370</td>\n",
       "      <td>1.732051</td>\n",
       "      <td>4.666667</td>\n",
       "      <td>4.666667</td>\n",
       "      <td>47.00</td>\n",
       "      <td>47.0</td>\n",
       "      <td>0.0</td>\n",
       "      <td>14.0</td>\n",
       "      <td>4.666667</td>\n",
       "      <td>0.0</td>\n",
       "      <td>14.0</td>\n",
       "      <td>4.666667</td>\n",
       "      <td>28.0</td>\n",
       "      <td>68.0</td>\n",
       "      <td>47.00</td>\n",
       "      <td>28.0</td>\n",
       "      <td>68.0</td>\n",
       "      <td>47.0</td>\n",
       "      <td>NaN</td>\n",
       "      <td>NaN</td>\n",
       "      <td>NaN</td>\n",
       "      <td>NaN</td>\n",
       "      <td>NaN</td>\n",
       "      <td>NaN</td>\n",
       "      <td>NaN</td>\n",
       "      <td>NaN</td>\n",
       "      <td>-9.272274</td>\n",
       "      <td>0.0</td>\n",
       "      <td>1</td>\n",
       "      <td>0.103448</td>\n",
       "      <td>0</td>\n",
       "      <td>4.666667</td>\n",
       "      <td>47.0</td>\n",
       "    </tr>\n",
       "    <tr>\n",
       "      <th>3</th>\n",
       "      <td>15</td>\n",
       "      <td>100674</td>\n",
       "      <td>Conan</td>\n",
       "      <td>158588</td>\n",
       "      <td>15.6</td>\n",
       "      <td>Premium</td>\n",
       "      <td>2022-07-09</td>\n",
       "      <td>8.0</td>\n",
       "      <td>55.0</td>\n",
       "      <td>2023-01-07</td>\n",
       "      <td>train</td>\n",
       "      <td>0</td>\n",
       "      <td>0</td>\n",
       "      <td>3</td>\n",
       "      <td>40</td>\n",
       "      <td>4</td>\n",
       "      <td>2</td>\n",
       "      <td>2022</td>\n",
       "      <td>3</td>\n",
       "      <td>7</td>\n",
       "      <td>27</td>\n",
       "      <td>9</td>\n",
       "      <td>5</td>\n",
       "      <td>-0.126528</td>\n",
       "      <td>-0.991963</td>\n",
       "      <td>0.251022</td>\n",
       "      <td>0.967981</td>\n",
       "      <td>-0.371481</td>\n",
       "      <td>-0.928441</td>\n",
       "      <td>0.485969</td>\n",
       "      <td>0.873976</td>\n",
       "      <td>0.849450</td>\n",
       "      <td>0.527668</td>\n",
       "      <td>0.968077</td>\n",
       "      <td>-0.250653</td>\n",
       "      <td>-0.485302</td>\n",
       "      <td>-0.874347</td>\n",
       "      <td>-0.974928</td>\n",
       "      <td>-0.222521</td>\n",
       "      <td>0.433884</td>\n",
       "      <td>-0.900969</td>\n",
       "      <td>0.781831</td>\n",
       "      <td>0.62349</td>\n",
       "      <td>4.0</td>\n",
       "      <td>4.594793</td>\n",
       "      <td>2.000000</td>\n",
       "      <td>5.500000</td>\n",
       "      <td>5.500000</td>\n",
       "      <td>49.00</td>\n",
       "      <td>49.0</td>\n",
       "      <td>0.0</td>\n",
       "      <td>14.0</td>\n",
       "      <td>5.500000</td>\n",
       "      <td>0.0</td>\n",
       "      <td>14.0</td>\n",
       "      <td>5.500000</td>\n",
       "      <td>28.0</td>\n",
       "      <td>68.0</td>\n",
       "      <td>49.00</td>\n",
       "      <td>28.0</td>\n",
       "      <td>68.0</td>\n",
       "      <td>49.0</td>\n",
       "      <td>NaN</td>\n",
       "      <td>NaN</td>\n",
       "      <td>NaN</td>\n",
       "      <td>NaN</td>\n",
       "      <td>NaN</td>\n",
       "      <td>NaN</td>\n",
       "      <td>NaN</td>\n",
       "      <td>NaN</td>\n",
       "      <td>-9.272274</td>\n",
       "      <td>0.0</td>\n",
       "      <td>1</td>\n",
       "      <td>0.137931</td>\n",
       "      <td>0</td>\n",
       "      <td>5.500000</td>\n",
       "      <td>49.0</td>\n",
       "    </tr>\n",
       "    <tr>\n",
       "      <th>4</th>\n",
       "      <td>15</td>\n",
       "      <td>100674</td>\n",
       "      <td>Conan</td>\n",
       "      <td>158588</td>\n",
       "      <td>15.6</td>\n",
       "      <td>Premium</td>\n",
       "      <td>2022-07-16</td>\n",
       "      <td>6.0</td>\n",
       "      <td>75.0</td>\n",
       "      <td>2023-01-07</td>\n",
       "      <td>train</td>\n",
       "      <td>0</td>\n",
       "      <td>0</td>\n",
       "      <td>3</td>\n",
       "      <td>40</td>\n",
       "      <td>4</td>\n",
       "      <td>2</td>\n",
       "      <td>2022</td>\n",
       "      <td>3</td>\n",
       "      <td>7</td>\n",
       "      <td>28</td>\n",
       "      <td>16</td>\n",
       "      <td>5</td>\n",
       "      <td>-0.244772</td>\n",
       "      <td>-0.969581</td>\n",
       "      <td>0.474653</td>\n",
       "      <td>0.880173</td>\n",
       "      <td>-0.675656</td>\n",
       "      <td>-0.737217</td>\n",
       "      <td>0.835553</td>\n",
       "      <td>0.549409</td>\n",
       "      <td>0.918121</td>\n",
       "      <td>-0.396299</td>\n",
       "      <td>-0.101168</td>\n",
       "      <td>-0.994869</td>\n",
       "      <td>0.201299</td>\n",
       "      <td>0.979530</td>\n",
       "      <td>-0.974928</td>\n",
       "      <td>-0.222521</td>\n",
       "      <td>0.433884</td>\n",
       "      <td>-0.900969</td>\n",
       "      <td>0.781831</td>\n",
       "      <td>0.62349</td>\n",
       "      <td>5.0</td>\n",
       "      <td>5.873095</td>\n",
       "      <td>2.236068</td>\n",
       "      <td>7.000000</td>\n",
       "      <td>5.600000</td>\n",
       "      <td>60.75</td>\n",
       "      <td>54.2</td>\n",
       "      <td>0.0</td>\n",
       "      <td>14.0</td>\n",
       "      <td>7.000000</td>\n",
       "      <td>0.0</td>\n",
       "      <td>14.0</td>\n",
       "      <td>5.600000</td>\n",
       "      <td>45.0</td>\n",
       "      <td>75.0</td>\n",
       "      <td>60.75</td>\n",
       "      <td>28.0</td>\n",
       "      <td>75.0</td>\n",
       "      <td>54.2</td>\n",
       "      <td>0.0</td>\n",
       "      <td>NaN</td>\n",
       "      <td>NaN</td>\n",
       "      <td>NaN</td>\n",
       "      <td>28.0</td>\n",
       "      <td>NaN</td>\n",
       "      <td>NaN</td>\n",
       "      <td>NaN</td>\n",
       "      <td>-9.272274</td>\n",
       "      <td>0.0</td>\n",
       "      <td>1</td>\n",
       "      <td>0.172414</td>\n",
       "      <td>0</td>\n",
       "      <td>5.600000</td>\n",
       "      <td>54.2</td>\n",
       "    </tr>\n",
       "  </tbody>\n",
       "</table>\n",
       "</div>"
      ],
      "text/plain": [
       "  reporterhq_id product_number prod_category   specs display_size  segment  \\\n",
       "0            15         100674         Conan  158588         15.6  Premium   \n",
       "1            15         100674         Conan  158588         15.6  Premium   \n",
       "2            15         100674         Conan  158588         15.6  Premium   \n",
       "3            15         100674         Conan  158588         15.6  Premium   \n",
       "4            15         100674         Conan  158588         15.6  Premium   \n",
       "\n",
       "        date  sales_units  inventory_units     cutoff sample  \\\n",
       "0 2022-06-18          0.0             28.0 2023-01-07  train   \n",
       "1 2022-06-25          0.0             45.0 2023-01-07  train   \n",
       "2 2022-07-02         14.0             68.0 2023-01-07  train   \n",
       "3 2022-07-09          8.0             55.0 2023-01-07  train   \n",
       "4 2022-07-16          6.0             75.0 2023-01-07  train   \n",
       "\n",
       "   feature_reporterhq_id  feature_product_number  feature_prod_category  \\\n",
       "0                      0                       0                      3   \n",
       "1                      0                       0                      3   \n",
       "2                      0                       0                      3   \n",
       "3                      0                       0                      3   \n",
       "4                      0                       0                      3   \n",
       "\n",
       "   feature_specs  feature_display_size  feature_segment  feature_year  \\\n",
       "0             40                     4                2          2022   \n",
       "1             40                     4                2          2022   \n",
       "2             40                     4                2          2022   \n",
       "3             40                     4                2          2022   \n",
       "4             40                     4                2          2022   \n",
       "\n",
       "   feature_quarter  feature_month  feature_week  feature_day  \\\n",
       "0                2              6            24           18   \n",
       "1                2              6            25           25   \n",
       "2                3              7            26            2   \n",
       "3                3              7            27            9   \n",
       "4                3              7            28           16   \n",
       "\n",
       "   feature_dayofweek  feature_sin_yearly_1  feature_cos_yearly_1  \\\n",
       "0                  5              0.232243             -0.972658   \n",
       "1                  5              0.113720             -0.993513   \n",
       "2                  5             -0.006451             -0.999979   \n",
       "3                  5             -0.126528             -0.991963   \n",
       "4                  5             -0.244772             -0.969581   \n",
       "\n",
       "   feature_sin_yearly_2  feature_cos_yearly_2  feature_sin_yearly_3  \\\n",
       "0             -0.451786              0.892126              0.646623   \n",
       "1             -0.225964              0.974136              0.335276   \n",
       "2              0.012901              0.999917             -0.019352   \n",
       "3              0.251022              0.967981             -0.371481   \n",
       "4              0.474653              0.880173             -0.675656   \n",
       "\n",
       "   feature_cos_yearly_3  feature_sin_quarterly_1  feature_cos_quarterly_1  \\\n",
       "0             -0.762810                -0.806100                 0.591779   \n",
       "1             -0.942120                -0.440238                 0.897881   \n",
       "2             -0.999813                 0.025801                 0.999667   \n",
       "3             -0.928441                 0.485969                 0.873976   \n",
       "4             -0.737217                 0.835553                 0.549409   \n",
       "\n",
       "   feature_sin_quarterly_2  feature_cos_quarterly_2  feature_sin_monthly_1  \\\n",
       "0                -0.954067                -0.299595              -0.587785   \n",
       "1                -0.790563                 0.612380              -0.866025   \n",
       "2                 0.051584                 0.998669               0.394356   \n",
       "3                 0.849450                 0.527668               0.968077   \n",
       "4                 0.918121                -0.396299              -0.101168   \n",
       "\n",
       "   feature_cos_monthly_1  feature_sin_monthly_2  feature_cos_monthly_2  \\\n",
       "0              -0.809017               0.951057               0.309017   \n",
       "1               0.500000              -0.866025              -0.500000   \n",
       "2               0.918958               0.724793               0.688967   \n",
       "3              -0.250653              -0.485302              -0.874347   \n",
       "4              -0.994869               0.201299               0.979530   \n",
       "\n",
       "   feature_sin_weekly_1  feature_cos_weekly_1  feature_sin_weekly_2  \\\n",
       "0             -0.974928             -0.222521              0.433884   \n",
       "1             -0.974928             -0.222521              0.433884   \n",
       "2             -0.974928             -0.222521              0.433884   \n",
       "3             -0.974928             -0.222521              0.433884   \n",
       "4             -0.974928             -0.222521              0.433884   \n",
       "\n",
       "   feature_cos_weekly_2  feature_sin_weekly_3  feature_cos_weekly_3  \\\n",
       "0             -0.900969              0.781831               0.62349   \n",
       "1             -0.900969              0.781831               0.62349   \n",
       "2             -0.900969              0.781831               0.62349   \n",
       "3             -0.900969              0.781831               0.62349   \n",
       "4             -0.900969              0.781831               0.62349   \n",
       "\n",
       "   feature_periods  feature_periods_expanding  feature_periods_sqrt  \\\n",
       "0              1.0                   1.000000              1.000000   \n",
       "1              2.0                   2.143547              1.414214   \n",
       "2              3.0                   3.348370              1.732051   \n",
       "3              4.0                   4.594793              2.000000   \n",
       "4              5.0                   5.873095              2.236068   \n",
       "\n",
       "   sales_units_ma_4  sales_units_ma_13  inventory_units_ma_4  \\\n",
       "0          0.000000           0.000000                 28.00   \n",
       "1          0.000000           0.000000                 36.50   \n",
       "2          4.666667           4.666667                 47.00   \n",
       "3          5.500000           5.500000                 49.00   \n",
       "4          7.000000           5.600000                 60.75   \n",
       "\n",
       "   inventory_units_ma_13  sales_units_min_4  sales_units_max_4  \\\n",
       "0                   28.0                0.0                0.0   \n",
       "1                   36.5                0.0                0.0   \n",
       "2                   47.0                0.0               14.0   \n",
       "3                   49.0                0.0               14.0   \n",
       "4                   54.2                0.0               14.0   \n",
       "\n",
       "   sales_units_mean_4  sales_units_min_13  sales_units_max_13  \\\n",
       "0            0.000000                 0.0                 0.0   \n",
       "1            0.000000                 0.0                 0.0   \n",
       "2            4.666667                 0.0                14.0   \n",
       "3            5.500000                 0.0                14.0   \n",
       "4            7.000000                 0.0                14.0   \n",
       "\n",
       "   sales_units_mean_13  inventory_units_min_4  inventory_units_max_4  \\\n",
       "0             0.000000                   28.0                   28.0   \n",
       "1             0.000000                   28.0                   45.0   \n",
       "2             4.666667                   28.0                   68.0   \n",
       "3             5.500000                   28.0                   68.0   \n",
       "4             5.600000                   45.0                   75.0   \n",
       "\n",
       "   inventory_units_mean_4  inventory_units_min_13  inventory_units_max_13  \\\n",
       "0                   28.00                    28.0                    28.0   \n",
       "1                   36.50                    28.0                    45.0   \n",
       "2                   47.00                    28.0                    68.0   \n",
       "3                   49.00                    28.0                    68.0   \n",
       "4                   60.75                    28.0                    75.0   \n",
       "\n",
       "   inventory_units_mean_13  feature_sales_units_lag_4  \\\n",
       "0                     28.0                        NaN   \n",
       "1                     36.5                        NaN   \n",
       "2                     47.0                        NaN   \n",
       "3                     49.0                        NaN   \n",
       "4                     54.2                        0.0   \n",
       "\n",
       "   feature_sales_units_lag_13  feature_sales_units_lag_26  \\\n",
       "0                         NaN                         NaN   \n",
       "1                         NaN                         NaN   \n",
       "2                         NaN                         NaN   \n",
       "3                         NaN                         NaN   \n",
       "4                         NaN                         NaN   \n",
       "\n",
       "   feature_sales_units_lag_52  feature_inventory_units_lag_4  \\\n",
       "0                         NaN                            NaN   \n",
       "1                         NaN                            NaN   \n",
       "2                         NaN                            NaN   \n",
       "3                         NaN                            NaN   \n",
       "4                         NaN                           28.0   \n",
       "\n",
       "   feature_inventory_units_lag_13  feature_inventory_units_lag_26  \\\n",
       "0                             NaN                             NaN   \n",
       "1                             NaN                             NaN   \n",
       "2                             NaN                             NaN   \n",
       "3                             NaN                             NaN   \n",
       "4                             NaN                             NaN   \n",
       "\n",
       "   feature_inventory_units_lag_52  feature_inventory_units_cov  \\\n",
       "0                             NaN                    -9.272274   \n",
       "1                             NaN                    -9.272274   \n",
       "2                             NaN                    -9.272274   \n",
       "3                             NaN                    -9.272274   \n",
       "4                             NaN                    -9.272274   \n",
       "\n",
       "   feature_inventory_units_intermittence  feature_inventory_units_cluster  \\\n",
       "0                                    0.0                                1   \n",
       "1                                    0.0                                1   \n",
       "2                                    0.0                                1   \n",
       "3                                    0.0                                1   \n",
       "4                                    0.0                                1   \n",
       "\n",
       "   train_weight  horizon  baseline_sales_units_ma_13  \\\n",
       "0      0.034483        0                    0.000000   \n",
       "1      0.068966        0                    0.000000   \n",
       "2      0.103448        0                    4.666667   \n",
       "3      0.137931        0                    5.500000   \n",
       "4      0.172414        0                    5.600000   \n",
       "\n",
       "   baseline_inventory_units_ma_13  \n",
       "0                            28.0  \n",
       "1                            36.5  \n",
       "2                            47.0  \n",
       "3                            49.0  \n",
       "4                            54.2  "
      ]
     },
     "execution_count": 18,
     "metadata": {},
     "output_type": "execute_result"
    }
   ],
   "source": [
    "# Call the function\n",
    "df_backtesting = create_baselines.create_ma_baseline(\n",
    "    df_with_features, \n",
    "    group_columns_cb, \n",
    "    date_column, \n",
    "    signal_columns, \n",
    "    bs_window_size,\n",
    "    create_features\n",
    ")\n",
    "\n",
    "# Show\n",
    "df_backtesting.head()"
   ]
  },
  {
   "cell_type": "markdown",
   "metadata": {
    "editable": true,
    "id": "ZsmTgq7SbWvI",
    "slideshow": {
     "slide_type": ""
    },
    "tags": []
   },
   "source": [
    "# Forecasting model"
   ]
  },
  {
   "cell_type": "markdown",
   "metadata": {
    "id": "2Y-CGRUjzzXY"
   },
   "source": [
    "## Features"
   ]
  },
  {
   "cell_type": "code",
   "execution_count": 19,
   "metadata": {
    "colab": {
     "base_uri": "https://localhost:8080/"
    },
    "id": "lkUb9XG5z05B",
    "outputId": "c6f512a4-a7c3-4996-d4e6-b0e4a7b11a81"
   },
   "outputs": [
    {
     "data": {
      "text/plain": [
       "['feature_reporterhq_id',\n",
       " 'feature_product_number',\n",
       " 'feature_prod_category',\n",
       " 'feature_specs',\n",
       " 'feature_display_size',\n",
       " 'feature_segment',\n",
       " 'feature_year',\n",
       " 'feature_quarter',\n",
       " 'feature_month',\n",
       " 'feature_week',\n",
       " 'feature_day',\n",
       " 'feature_dayofweek',\n",
       " 'feature_sin_yearly_1',\n",
       " 'feature_cos_yearly_1',\n",
       " 'feature_sin_yearly_2',\n",
       " 'feature_cos_yearly_2',\n",
       " 'feature_sin_yearly_3',\n",
       " 'feature_cos_yearly_3',\n",
       " 'feature_sin_quarterly_1',\n",
       " 'feature_cos_quarterly_1',\n",
       " 'feature_sin_quarterly_2',\n",
       " 'feature_cos_quarterly_2',\n",
       " 'feature_sin_monthly_1',\n",
       " 'feature_cos_monthly_1',\n",
       " 'feature_sin_monthly_2',\n",
       " 'feature_cos_monthly_2',\n",
       " 'feature_sin_weekly_1',\n",
       " 'feature_cos_weekly_1',\n",
       " 'feature_sin_weekly_2',\n",
       " 'feature_cos_weekly_2',\n",
       " 'feature_sin_weekly_3',\n",
       " 'feature_cos_weekly_3',\n",
       " 'feature_periods',\n",
       " 'feature_periods_expanding',\n",
       " 'feature_periods_sqrt',\n",
       " 'feature_sales_units_lag_4',\n",
       " 'feature_sales_units_lag_13',\n",
       " 'feature_sales_units_lag_26',\n",
       " 'feature_sales_units_lag_52',\n",
       " 'feature_inventory_units_lag_4',\n",
       " 'feature_inventory_units_lag_13',\n",
       " 'feature_inventory_units_lag_26',\n",
       " 'feature_inventory_units_lag_52',\n",
       " 'feature_inventory_units_cov',\n",
       " 'feature_inventory_units_intermittence',\n",
       " 'feature_inventory_units_cluster']"
      ]
     },
     "execution_count": 19,
     "metadata": {},
     "output_type": "execute_result"
    }
   ],
   "source": [
    "# Automatically find all feature columns containing 'feature' in their names\n",
    "features = [col for col in df_backtesting.columns if \"feature\" in col]\n",
    "\n",
    "# Create default trainining group\n",
    "df_backtesting['training_group'] = 1\n",
    "\n",
    "# Show\n",
    "features"
   ]
  },
  {
   "cell_type": "code",
   "execution_count": 20,
   "metadata": {
    "colab": {
     "base_uri": "https://localhost:8080/"
    },
    "id": "9P6K8EYM8GAU",
    "outputId": "e220aff2-1cce-4f9f-8523-7cbfcabbaef8"
   },
   "outputs": [
    {
     "name": "stdout",
     "output_type": "stream",
     "text": [
      "Number of features: 46\n"
     ]
    }
   ],
   "source": [
    "# Number of features\n",
    "print(\"Number of features:\", len(features))"
   ]
  },
  {
   "cell_type": "markdown",
   "metadata": {
    "id": "hfBD47CoyIs-"
   },
   "source": [
    "## Configuration"
   ]
  },
  {
   "cell_type": "code",
   "execution_count": 21,
   "metadata": {
    "id": "CbYAOcFMyLvf"
   },
   "outputs": [],
   "source": [
    "# Parameters\n",
    "group_cols = ['reporterhq_id', 'product_number']\n",
    "training_group = 'training_group'\n",
    "target_col = 'inventory_units'\n",
    "model = 'LGBM'\n",
    "tune_hyperparameters = False\n",
    "search_method = 'halving'\n",
    "default_params = None\n",
    "param_distributions = None\n",
    "scoring_metric = 'neg_root_mean_squared_error'\n",
    "n_iter = 50\n",
    "best_features = False\n",
    "n_best_features = 25\n",
    "use_weights = True\n",
    "\n",
    "# Outliers\n",
    "remove_outliers = False\n",
    "outlier_column = 'inventory_units'\n",
    "lower_quantile = 0.025\n",
    "upper_quantile = 0.975\n",
    "ts_decomposition = False\n",
    "\n",
    "# Guardrail\n",
    "baseline_col = f'baseline_{target_col}_ma_{bs_window_size}'\n",
    "use_guardrail = True\n",
    "guardrail_limit = 2.5\n",
    "\n",
    "# Parallel\n",
    "use_parallel = False\n",
    "num_cpus = 5"
   ]
  },
  {
   "cell_type": "markdown",
   "metadata": {
    "id": "h1Q_9HMRwc5L"
   },
   "source": [
    "## Run Predictor"
   ]
  },
  {
   "cell_type": "code",
   "execution_count": null,
   "metadata": {},
   "outputs": [
    {
     "ename": "",
     "evalue": "",
     "output_type": "error",
     "traceback": [
      "\u001b[1;31mThe Kernel crashed while executing code in the current cell or a previous cell. \n",
      "\u001b[1;31mPlease review the code in the cell(s) to identify a possible cause of the failure. \n",
      "\u001b[1;31mClick <a href='https://aka.ms/vscodeJupyterKernelCrash'>here</a> for more info. \n",
      "\u001b[1;31mView Jupyter <a href='command:jupyter.viewOutput'>log</a> for further details."
     ]
    }
   ],
   "source": [
    "# Initialize the Forecaster class with df_input\n",
    "forecaster = Forecaster(df_backtesting)"
   ]
  },
  {
   "cell_type": "code",
   "execution_count": null,
   "metadata": {
    "colab": {
     "base_uri": "https://localhost:8080/"
    },
    "editable": true,
    "id": "29b8VUyEwgOQ",
    "outputId": "c3271554-9f15-43bf-cbd1-e5a3f6e14343",
    "slideshow": {
     "slide_type": ""
    },
    "tags": []
   },
   "outputs": [],
   "source": [
    "%%time\n",
    "# Call the function\n",
    "df_with_preds = forecaster.run_backtesting(\n",
    "    group_cols,\n",
    "    features,\n",
    "    default_params,\n",
    "    training_group,\n",
    "    target_col,\n",
    "    model,\n",
    "    tune_hyperparameters,\n",
    "    search_method,\n",
    "    param_distributions,\n",
    "    scoring_metric,\n",
    "    n_iter,\n",
    "    best_features,\n",
    "    n_best_features,\n",
    "    remove_outliers,\n",
    "    outlier_column,\n",
    "    lower_quantile,\n",
    "    upper_quantile,\n",
    "    ts_decomposition,\n",
    "    baseline_col,\n",
    "    use_guardrail,\n",
    "    guardrail_limit,\n",
    "    use_weights,\n",
    "    use_parallel,\n",
    "    num_cpus\n",
    ")"
   ]
  },
  {
   "cell_type": "markdown",
   "metadata": {
    "id": "5TffRsG7x3gm"
   },
   "source": [
    "## Hyperparameters"
   ]
  },
  {
   "cell_type": "code",
   "execution_count": null,
   "metadata": {
    "id": "3lD403_yx5UU"
   },
   "outputs": [],
   "source": [
    "# Your existing code\n",
    "if tune_hyperparameters:\n",
    "    # Get best hyperparameters\n",
    "    best_hyperparams = forecaster.get_best_hyperparams()\n",
    "    print(\"Best Hyperparameters for each cutoff:\")\n",
    "    \n",
    "    # Convert to DataFrame and display\n",
    "    params_df = pd.DataFrame(best_hyperparams).T\n",
    "    display(params_df)\n",
    "    \n",
    "else:\n",
    "    # If no tuning, get all model parameters\n",
    "    all_params = []\n",
    "    \n",
    "    for (cutoff, training_group), model in forecaster.models.items():\n",
    "        params = model.get_params()\n",
    "        params.update({\n",
    "            'cutoff': cutoff,\n",
    "            'training_group': training_group\n",
    "        })\n",
    "        all_params.append(params)\n",
    "    \n",
    "    # Create and display DataFrame\n",
    "    params_df = pd.DataFrame(all_params)\n",
    "    params_df = params_df.set_index(['cutoff', 'training_group'])\n",
    "    display(params_df)"
   ]
  },
  {
   "cell_type": "markdown",
   "metadata": {
    "id": "EUYu06j-TtXq"
   },
   "source": [
    "## Guardrail"
   ]
  },
  {
   "cell_type": "code",
   "execution_count": null,
   "metadata": {
    "colab": {
     "base_uri": "https://localhost:8080/"
    },
    "id": "HHxpEhhCTs4Z",
    "outputId": "5ee6dbfd-99d3-4893-8d4c-2be3e4d2ea0c"
   },
   "outputs": [],
   "source": [
    "# If guardrail is activated\n",
    "if use_guardrail:\n",
    "  # Assuming 'df_with_preds' is the DataFrame\n",
    "  group_cols = ['reporterhq_id', 'product_number', 'cutoff']\n",
    "\n",
    "  # Group by the specified columns and check for at least one True in each group\n",
    "  guardrail_groups = df_with_preds.groupby(group_cols)['guardrail'].any().reset_index()\n",
    "\n",
    "  # Calculate the total number of groups\n",
    "  total_groups = guardrail_groups.shape[0]\n",
    "\n",
    "  # Count the number of groups where guardrail is True\n",
    "  true_guardrail_groups_count = guardrail_groups['guardrail'].sum()\n",
    "\n",
    "  # Calculate the percentage of groups with guardrail == True\n",
    "  percentage_guardrail_true = (true_guardrail_groups_count / total_groups) * 100\n",
    "\n",
    "  # Show\n",
    "  print(f\"Percentage of groups where guardrail is True: {percentage_guardrail_true:.2f}%\")"
   ]
  },
  {
   "cell_type": "markdown",
   "metadata": {
    "id": "oltlT7syx7nQ"
   },
   "source": [
    "# Evaluate results"
   ]
  },
  {
   "cell_type": "markdown",
   "metadata": {
    "id": "aXvXCZkAAzoH"
   },
   "source": [
    "## Feature importance"
   ]
  },
  {
   "cell_type": "code",
   "execution_count": null,
   "metadata": {
    "colab": {
     "base_uri": "https://localhost:8080/",
     "height": 807
    },
    "id": "NkBqZvS6A3cZ",
    "outputId": "666ce9b4-6355-4b87-965d-17c8300e5538"
   },
   "outputs": [],
   "source": [
    "# Plot the average feature importance across all cutoffs\n",
    "forecaster.plot_feature_importance(top_n=15, show_std=True, color_scale=True)"
   ]
  },
  {
   "cell_type": "markdown",
   "metadata": {},
   "source": [
    "# Guardrail"
   ]
  },
  {
   "cell_type": "code",
   "execution_count": null,
   "metadata": {},
   "outputs": [],
   "source": [
    "# Assets\n",
    "from utils.guardrail import Guardrail\n",
    "\n",
    "# Init class\n",
    "guardrail = Guardrail()"
   ]
  },
  {
   "cell_type": "code",
   "execution_count": null,
   "metadata": {},
   "outputs": [],
   "source": [
    "# Run function\n",
    "df_with_preds = guardrail.create_smart_ensemble(\n",
    "    df=df_with_preds,\n",
    "    group_cols=['reporterhq_id', 'product_number', 'cutoff'],\n",
    "    pred_col='prediction',\n",
    "    baseline_col=f'baseline_{target_col}_ma_{bs_window_size}'\n",
    "    intermittence_threshold=70.0,\n",
    "    cov_threshold=1.2\n",
    ")"
   ]
  },
  {
   "cell_type": "markdown",
   "metadata": {},
   "source": [
    "## Run Evaluator"
   ]
  },
  {
   "cell_type": "code",
   "execution_count": null,
   "metadata": {
    "colab": {
     "base_uri": "https://localhost:8080/",
     "height": 125
    },
    "id": "BpwMtDjr2EUP",
    "outputId": "bea5e4bf-c6fd-4a32-f88a-33873cd430b7"
   },
   "outputs": [],
   "source": [
    "# Params\n",
    "actuals_col = 'inventory_units'\n",
    "baseline_col = 'baseline_inventory_units_ma_13'\n",
    "\n",
    "# Base prediction columns\n",
    "preds_col = ['model_prediction', 'prediction']\n",
    "\n",
    "# Add 'prediction_ensemble' if it exists in the DataFrame\n",
    "if 'prediction_ensemble' in df_input.columns:\n",
    "    preds_col.append('prediction_ensemble')\n",
    "\n",
    "# Initialize the Evaluator class\n",
    "evaluator = Evaluator(df_with_preds, actuals_col, baseline_col, preds_col)\n",
    "\n",
    "# Call the function\n",
    "metric_table = evaluator.create_metric_table()\n",
    "\n",
    "# Show\n",
    "metric_table"
   ]
  },
  {
   "cell_type": "markdown",
   "metadata": {},
   "source": [
    "## Lag metrics"
   ]
  },
  {
   "cell_type": "code",
   "execution_count": null,
   "metadata": {},
   "outputs": [],
   "source": [
    "# Params\n",
    "metric_name = 'RMSE'\n",
    "group_col = 'horizon'\n",
    "group_filter = range(1,14)\n",
    "\n",
    "# Call the function\n",
    "lag_metrics = evaluator.calculate_grouped_metric(metric_name, group_col, group_filter)\n",
    "\n",
    "# Show\n",
    "lag_metrics"
   ]
  },
  {
   "cell_type": "markdown",
   "metadata": {
    "id": "ZhTywMG3x-Z6"
   },
   "source": [
    "# Plot predictions\n"
   ]
  },
  {
   "cell_type": "code",
   "execution_count": null,
   "metadata": {
    "colab": {
     "base_uri": "https://localhost:8080/",
     "height": 226
    },
    "id": "XJamu9QEb6Tq",
    "outputId": "f8a1cf9e-acb3-4b97-8a51-439d67648bf1"
   },
   "outputs": [],
   "source": [
    "# Get the max cutoff\n",
    "max_cutoff = df_with_preds['cutoff'].max()\n",
    "\n",
    "# Filter the DataFrame where cutoff is equal to the max cutoff\n",
    "df_filtered = df_with_preds[df_with_preds['cutoff'] == max_cutoff]\n",
    "\n",
    "# Reset index\n",
    "df_filtered = df_filtered.reset_index(drop=True)\n",
    "\n",
    "# Show\n",
    "df_filtered.head()"
   ]
  },
  {
   "cell_type": "code",
   "execution_count": null,
   "metadata": {
    "id": "NKKC_sXq8Djq"
   },
   "outputs": [],
   "source": [
    "# Params\n",
    "baseline_col = 'baseline_inventory_units_ma_13'\n",
    "target_col = 'inventory_units'\n",
    "top_n_plots = 6"
   ]
  },
  {
   "cell_type": "markdown",
   "metadata": {
    "id": "LMCsCWfe20qL"
   },
   "source": [
    "## Plot by Reporter"
   ]
  },
  {
   "cell_type": "code",
   "execution_count": null,
   "metadata": {
    "colab": {
     "base_uri": "https://localhost:8080/",
     "height": 995
    },
    "id": "52PnELpj2wzz",
    "outputId": "bb72b4ca-b843-40a9-dccf-0ff9e263b5f1"
   },
   "outputs": [],
   "source": [
    "# Plot by client\n",
    "process_and_plot(\n",
    "    df_filtered,\n",
    "    group_col='reporterhq_id',\n",
    "    baseline_col=baseline_col,\n",
    "    target_col=target_col,\n",
    "    top_n=top_n_plots,\n",
    "    title='Top Reporter Target vs Baseline vs Prediction'\n",
    ")"
   ]
  },
  {
   "cell_type": "markdown",
   "metadata": {
    "id": "OHNPCKSf25_X"
   },
   "source": [
    "## Plot by Product"
   ]
  },
  {
   "cell_type": "code",
   "execution_count": null,
   "metadata": {
    "colab": {
     "base_uri": "https://localhost:8080/",
     "height": 994
    },
    "id": "qEtAZ-j328uo",
    "outputId": "d66c11bd-8244-4d07-87f1-afa48c94b381"
   },
   "outputs": [],
   "source": [
    "# Plot by product\n",
    "process_and_plot(\n",
    "    df_filtered,\n",
    "    group_col='product_number',\n",
    "    baseline_col=baseline_col,\n",
    "    target_col=target_col,\n",
    "    top_n=top_n_plots,\n",
    "    title='Top Products Target vs Baseline vs Prediction'\n",
    ")"
   ]
  },
  {
   "cell_type": "markdown",
   "metadata": {
    "id": "ZiXGJAptyCpU"
   },
   "source": [
    "# Save output"
   ]
  },
  {
   "cell_type": "code",
   "execution_count": null,
   "metadata": {
    "id": "9MhoQy9XyFBq"
   },
   "outputs": [],
   "source": [
    "# Select columns\n",
    "df_filtered = df_with_preds.loc[:, ~df_with_preds.columns.str.startswith('feature_')]\n",
    "\n",
    "# Create the filename with the phase appended\n",
    "file_name = f'outputs/predictions.csv'\n",
    "\n",
    "# Write the dataframe to the CSV file\n",
    "df_filtered.to_csv(file_name, index=False)"
   ]
  },
  {
   "cell_type": "markdown",
   "metadata": {
    "id": "5taG8YopjnQT"
   },
   "source": [
    "# Clean"
   ]
  },
  {
   "cell_type": "code",
   "execution_count": null,
   "metadata": {
    "colab": {
     "base_uri": "https://localhost:8080/"
    },
    "id": "I7R3VpufjoW5",
    "outputId": "74bdfe5c-405b-4904-e339-2af2d961906c",
    "tags": []
   },
   "outputs": [],
   "source": [
    "# Garbage collection\n",
    "gc.collect()"
   ]
  }
 ],
 "metadata": {
  "colab": {
   "machine_shape": "hm",
   "provenance": [],
   "toc_visible": true
  },
  "deepnote_execution_queue": [],
  "deepnote_notebook_id": "e776b74a863545c0ab5773f4afa312ff",
  "deepnote_persisted_session": {
   "createdAt": "2024-09-14T16:00:21.891Z"
  },
  "kernelspec": {
   "display_name": "base",
   "language": "python",
   "name": "python3"
  },
  "language_info": {
   "codemirror_mode": {
    "name": "ipython",
    "version": 3
   },
   "file_extension": ".py",
   "mimetype": "text/x-python",
   "name": "python",
   "nbconvert_exporter": "python",
   "pygments_lexer": "ipython3",
   "version": "3.11.5"
  }
 },
 "nbformat": 4,
 "nbformat_minor": 4
}
